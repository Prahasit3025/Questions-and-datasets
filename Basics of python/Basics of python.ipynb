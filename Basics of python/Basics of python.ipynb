{
  "nbformat": 4,
  "nbformat_minor": 0,
  "metadata": {
    "colab": {
      "provenance": []
    },
    "kernelspec": {
      "name": "python3",
      "display_name": "Python 3"
    },
    "language_info": {
      "name": "python"
    }
  },
  "cells": [
    {
      "cell_type": "markdown",
      "source": [
        "#Exercise 1: Prime Numbers"
      ],
      "metadata": {
        "id": "8aR78S_TK_nb"
      }
    },
    {
      "cell_type": "code",
      "execution_count": null,
      "metadata": {
        "colab": {
          "base_uri": "https://localhost:8080/"
        },
        "id": "11bQe5cyKv7p",
        "outputId": "e6883126-8208-487b-a310-79854e1daf15"
      },
      "outputs": [
        {
          "output_type": "stream",
          "name": "stdout",
          "text": [
            "Enter a number: 97\n",
            "97 is a prime number.\n"
          ]
        }
      ],
      "source": [
        "def prime(n):\n",
        "    if n <= 1:\n",
        "        return False\n",
        "    for i in range(2, int(n**0.5) + 1):\n",
        "        if n % i == 0:\n",
        "            return False\n",
        "    return True\n",
        "a = int(input(\"Enter a number: \"))\n",
        "if prime(a):\n",
        "    print(f\"{a} is a prime number.\")\n",
        "else:\n",
        "    print(f\"{a} is not a prime number.\")"
      ]
    },
    {
      "cell_type": "markdown",
      "source": [
        "#Exercise 2: Product of Random Numbers"
      ],
      "metadata": {
        "id": "av1a8CKdPQs7"
      }
    },
    {
      "cell_type": "code",
      "source": [
        "import random\n",
        "n1 = random.randint(1, 10)\n",
        "n2 = random.randint(1, 10)\n",
        "print(f\"Multiply {n1} and {n2}.\")\n",
        "user_ans = int(input(\"Enter the product: \"))\n",
        "correct_ans = n1 * n2\n",
        "if user_ans == correct_ans:\n",
        "    print(\"Correct! Well done.\")\n",
        "else:\n",
        "    print(f\"Incorrect! The correct answer is {correct_ans}.\")\n"
      ],
      "metadata": {
        "colab": {
          "base_uri": "https://localhost:8080/"
        },
        "id": "37Fqg5UlPVHL",
        "outputId": "edd0044a-b181-4f27-e130-9861536755d3"
      },
      "execution_count": null,
      "outputs": [
        {
          "output_type": "stream",
          "name": "stdout",
          "text": [
            "Multiply 2 and 8.\n",
            "Enter the product: 16\n",
            "Correct! Well done.\n"
          ]
        }
      ]
    },
    {
      "cell_type": "markdown",
      "source": [
        "#Exercise 3: Squares of Even/Odd Numbers between 100 and 200"
      ],
      "metadata": {
        "id": "vO-EbwsHQX98"
      }
    },
    {
      "cell_type": "code",
      "source": [
        "print(\"Squares of Even Numbers b/w 100 and 200 are\")\n",
        "for n in range(100, 201):\n",
        "    if n % 2 == 0:\n",
        "        print(f\"{n} squared is {n**2}\")\n",
        "print(\"Squares of Odd Numbers b/w 100 and 200 are\")\n",
        "for n in range(100, 201):\n",
        "    if n % 2 != 0:\n",
        "        print(f\"{n} squared is {n**2}\")\n"
      ],
      "metadata": {
        "colab": {
          "base_uri": "https://localhost:8080/"
        },
        "id": "Ja-t-S_pQckg",
        "outputId": "92e5484c-f8c4-4d54-d610-1a9cd77b156d"
      },
      "execution_count": null,
      "outputs": [
        {
          "output_type": "stream",
          "name": "stdout",
          "text": [
            "Squares of Even Numbers b/w 100 and 200 are\n",
            "100 squared is 10000\n",
            "102 squared is 10404\n",
            "104 squared is 10816\n",
            "106 squared is 11236\n",
            "108 squared is 11664\n",
            "110 squared is 12100\n",
            "112 squared is 12544\n",
            "114 squared is 12996\n",
            "116 squared is 13456\n",
            "118 squared is 13924\n",
            "120 squared is 14400\n",
            "122 squared is 14884\n",
            "124 squared is 15376\n",
            "126 squared is 15876\n",
            "128 squared is 16384\n",
            "130 squared is 16900\n",
            "132 squared is 17424\n",
            "134 squared is 17956\n",
            "136 squared is 18496\n",
            "138 squared is 19044\n",
            "140 squared is 19600\n",
            "142 squared is 20164\n",
            "144 squared is 20736\n",
            "146 squared is 21316\n",
            "148 squared is 21904\n",
            "150 squared is 22500\n",
            "152 squared is 23104\n",
            "154 squared is 23716\n",
            "156 squared is 24336\n",
            "158 squared is 24964\n",
            "160 squared is 25600\n",
            "162 squared is 26244\n",
            "164 squared is 26896\n",
            "166 squared is 27556\n",
            "168 squared is 28224\n",
            "170 squared is 28900\n",
            "172 squared is 29584\n",
            "174 squared is 30276\n",
            "176 squared is 30976\n",
            "178 squared is 31684\n",
            "180 squared is 32400\n",
            "182 squared is 33124\n",
            "184 squared is 33856\n",
            "186 squared is 34596\n",
            "188 squared is 35344\n",
            "190 squared is 36100\n",
            "192 squared is 36864\n",
            "194 squared is 37636\n",
            "196 squared is 38416\n",
            "198 squared is 39204\n",
            "200 squared is 40000\n",
            "Squares of Odd Numbers b/w 100 and 200 are\n",
            "101 squared is 10201\n",
            "103 squared is 10609\n",
            "105 squared is 11025\n",
            "107 squared is 11449\n",
            "109 squared is 11881\n",
            "111 squared is 12321\n",
            "113 squared is 12769\n",
            "115 squared is 13225\n",
            "117 squared is 13689\n",
            "119 squared is 14161\n",
            "121 squared is 14641\n",
            "123 squared is 15129\n",
            "125 squared is 15625\n",
            "127 squared is 16129\n",
            "129 squared is 16641\n",
            "131 squared is 17161\n",
            "133 squared is 17689\n",
            "135 squared is 18225\n",
            "137 squared is 18769\n",
            "139 squared is 19321\n",
            "141 squared is 19881\n",
            "143 squared is 20449\n",
            "145 squared is 21025\n",
            "147 squared is 21609\n",
            "149 squared is 22201\n",
            "151 squared is 22801\n",
            "153 squared is 23409\n",
            "155 squared is 24025\n",
            "157 squared is 24649\n",
            "159 squared is 25281\n",
            "161 squared is 25921\n",
            "163 squared is 26569\n",
            "165 squared is 27225\n",
            "167 squared is 27889\n",
            "169 squared is 28561\n",
            "171 squared is 29241\n",
            "173 squared is 29929\n",
            "175 squared is 30625\n",
            "177 squared is 31329\n",
            "179 squared is 32041\n",
            "181 squared is 32761\n",
            "183 squared is 33489\n",
            "185 squared is 34225\n",
            "187 squared is 34969\n",
            "189 squared is 35721\n",
            "191 squared is 36481\n",
            "193 squared is 37249\n",
            "195 squared is 38025\n",
            "197 squared is 38809\n",
            "199 squared is 39601\n"
          ]
        }
      ]
    },
    {
      "cell_type": "markdown",
      "source": [
        "#Exercise 4: Word counter"
      ],
      "metadata": {
        "id": "DGa0A60aSdJa"
      }
    },
    {
      "cell_type": "code",
      "source": [
        "from collections import Counter\n",
        "def w(t):\n",
        "    words = t.split()\n",
        "    word_count = Counter(words)\n",
        "\n",
        "    for word, count in word_count.items():\n",
        "        print(f\"'{word}': {count}\")\n",
        "\n",
        "# Testing Exercise 4\n",
        "text = input(\"Write a text message:\")\n",
        "w(text)"
      ],
      "metadata": {
        "colab": {
          "base_uri": "https://localhost:8080/"
        },
        "id": "MQPMJrzWSeK8",
        "outputId": "ea6ba8f0-dd29-48f3-a802-070ea29462c4"
      },
      "execution_count": null,
      "outputs": [
        {
          "output_type": "stream",
          "name": "stdout",
          "text": [
            "Write a text message:hi this fri\n",
            "'hi': 1\n",
            "'this': 1\n",
            "'fri': 1\n"
          ]
        }
      ]
    },
    {
      "cell_type": "markdown",
      "source": [
        "#Exercise 5: Check for Palindrome"
      ],
      "metadata": {
        "id": "AKpQ6mpnTgm9"
      }
    },
    {
      "cell_type": "code",
      "source": [
        "def palindrome(s):\n",
        "    cleaned_string = ''.join(char.lower() for char in s if char.isalnum())\n",
        "    return cleaned_string == cleaned_string[::-1]\n",
        "\n",
        "input= input(\"Enter a word \")\n",
        "if palindrome(input):\n",
        "    print(\"a palindrome.\")\n",
        "else:\n",
        "    print(\"not a palindrome\")"
      ],
      "metadata": {
        "colab": {
          "base_uri": "https://localhost:8080/"
        },
        "id": "3xh9Y6iVTjO7",
        "outputId": "9a305381-6a89-4e01-a128-eb70c6e12363"
      },
      "execution_count": null,
      "outputs": [
        {
          "output_type": "stream",
          "name": "stdout",
          "text": [
            "Enter a word rer\n",
            "a palindrome.\n"
          ]
        }
      ]
    }
  ]
}